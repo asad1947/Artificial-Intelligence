{
 "cells": [
  {
   "cell_type": "markdown",
   "metadata": {
    "id": "AgRrJKr5MxAi"
   },
   "source": [
    "Problem Statement: Create a research and summarization agent using LangGraph"
   ]
  },
  {
   "cell_type": "markdown",
   "metadata": {
    "id": "t33GbfNANHWq"
   },
   "source": [
    "Packages"
   ]
  },
  {
   "cell_type": "code",
   "execution_count": 2,
   "metadata": {
    "colab": {
     "base_uri": "https://localhost:8080/"
    },
    "id": "iwUCC9DRMmOv",
    "outputId": "9373d5bc-ad38-4dde-a656-bb715b8ed24f"
   },
   "outputs": [
    {
     "name": "stdout",
     "output_type": "stream",
     "text": [
      "Requirement already satisfied: langgraph in /usr/local/lib/python3.11/dist-packages (0.6.5)\n",
      "Requirement already satisfied: langchain in /usr/local/lib/python3.11/dist-packages (0.3.27)\n",
      "Requirement already satisfied: langchain-openai in /usr/local/lib/python3.11/dist-packages (0.3.30)\n",
      "Requirement already satisfied: tiktoken in /usr/local/lib/python3.11/dist-packages (0.11.0)\n",
      "Requirement already satisfied: tavily-python in /usr/local/lib/python3.11/dist-packages (0.7.10)\n",
      "Requirement already satisfied: requests in /usr/local/lib/python3.11/dist-packages (2.32.3)\n",
      "Requirement already satisfied: beautifulsoup4 in /usr/local/lib/python3.11/dist-packages (4.13.4)\n",
      "Requirement already satisfied: markitdown in /usr/local/lib/python3.11/dist-packages (0.1.2)\n",
      "Requirement already satisfied: langchain-community in /usr/local/lib/python3.11/dist-packages (0.3.27)\n",
      "Requirement already satisfied: faiss-cpu in /usr/local/lib/python3.11/dist-packages (1.12.0)\n",
      "Requirement already satisfied: langchain-core>=0.1 in /usr/local/lib/python3.11/dist-packages (from langgraph) (0.3.74)\n",
      "Requirement already satisfied: langgraph-checkpoint<3.0.0,>=2.1.0 in /usr/local/lib/python3.11/dist-packages (from langgraph) (2.1.1)\n",
      "Requirement already satisfied: langgraph-prebuilt<0.7.0,>=0.6.0 in /usr/local/lib/python3.11/dist-packages (from langgraph) (0.6.4)\n",
      "Requirement already satisfied: langgraph-sdk<0.3.0,>=0.2.0 in /usr/local/lib/python3.11/dist-packages (from langgraph) (0.2.1)\n",
      "Requirement already satisfied: pydantic>=2.7.4 in /usr/local/lib/python3.11/dist-packages (from langgraph) (2.11.7)\n",
      "Requirement already satisfied: xxhash>=3.5.0 in /usr/local/lib/python3.11/dist-packages (from langgraph) (3.5.0)\n",
      "Requirement already satisfied: langchain-text-splitters<1.0.0,>=0.3.9 in /usr/local/lib/python3.11/dist-packages (from langchain) (0.3.9)\n",
      "Requirement already satisfied: langsmith>=0.1.17 in /usr/local/lib/python3.11/dist-packages (from langchain) (0.4.14)\n",
      "Requirement already satisfied: SQLAlchemy<3,>=1.4 in /usr/local/lib/python3.11/dist-packages (from langchain) (2.0.43)\n",
      "Requirement already satisfied: PyYAML>=5.3 in /usr/local/lib/python3.11/dist-packages (from langchain) (6.0.2)\n",
      "Requirement already satisfied: openai<2.0.0,>=1.99.9 in /usr/local/lib/python3.11/dist-packages (from langchain-openai) (1.99.9)\n",
      "Requirement already satisfied: regex>=2022.1.18 in /usr/local/lib/python3.11/dist-packages (from tiktoken) (2024.11.6)\n",
      "Requirement already satisfied: httpx in /usr/local/lib/python3.11/dist-packages (from tavily-python) (0.28.1)\n",
      "Requirement already satisfied: charset-normalizer<4,>=2 in /usr/local/lib/python3.11/dist-packages (from requests) (3.4.3)\n",
      "Requirement already satisfied: idna<4,>=2.5 in /usr/local/lib/python3.11/dist-packages (from requests) (3.10)\n",
      "Requirement already satisfied: urllib3<3,>=1.21.1 in /usr/local/lib/python3.11/dist-packages (from requests) (2.5.0)\n",
      "Requirement already satisfied: certifi>=2017.4.17 in /usr/local/lib/python3.11/dist-packages (from requests) (2025.8.3)\n",
      "Requirement already satisfied: soupsieve>1.2 in /usr/local/lib/python3.11/dist-packages (from beautifulsoup4) (2.7)\n",
      "Requirement already satisfied: typing-extensions>=4.0.0 in /usr/local/lib/python3.11/dist-packages (from beautifulsoup4) (4.14.1)\n",
      "Requirement already satisfied: defusedxml in /usr/local/lib/python3.11/dist-packages (from markitdown) (0.7.1)\n",
      "Requirement already satisfied: magika~=0.6.1 in /usr/local/lib/python3.11/dist-packages (from markitdown) (0.6.2)\n",
      "Requirement already satisfied: markdownify in /usr/local/lib/python3.11/dist-packages (from markitdown) (1.2.0)\n",
      "Requirement already satisfied: aiohttp<4.0.0,>=3.8.3 in /usr/local/lib/python3.11/dist-packages (from langchain-community) (3.12.15)\n",
      "Requirement already satisfied: tenacity!=8.4.0,<10,>=8.1.0 in /usr/local/lib/python3.11/dist-packages (from langchain-community) (9.1.2)\n",
      "Requirement already satisfied: dataclasses-json<0.7,>=0.5.7 in /usr/local/lib/python3.11/dist-packages (from langchain-community) (0.6.7)\n",
      "Requirement already satisfied: pydantic-settings<3.0.0,>=2.4.0 in /usr/local/lib/python3.11/dist-packages (from langchain-community) (2.10.1)\n",
      "Requirement already satisfied: httpx-sse<1.0.0,>=0.4.0 in /usr/local/lib/python3.11/dist-packages (from langchain-community) (0.4.1)\n",
      "Requirement already satisfied: numpy>=1.26.2 in /usr/local/lib/python3.11/dist-packages (from langchain-community) (2.0.2)\n",
      "Requirement already satisfied: packaging in /usr/local/lib/python3.11/dist-packages (from faiss-cpu) (25.0)\n",
      "Requirement already satisfied: aiohappyeyeballs>=2.5.0 in /usr/local/lib/python3.11/dist-packages (from aiohttp<4.0.0,>=3.8.3->langchain-community) (2.6.1)\n",
      "Requirement already satisfied: aiosignal>=1.4.0 in /usr/local/lib/python3.11/dist-packages (from aiohttp<4.0.0,>=3.8.3->langchain-community) (1.4.0)\n",
      "Requirement already satisfied: attrs>=17.3.0 in /usr/local/lib/python3.11/dist-packages (from aiohttp<4.0.0,>=3.8.3->langchain-community) (25.3.0)\n",
      "Requirement already satisfied: frozenlist>=1.1.1 in /usr/local/lib/python3.11/dist-packages (from aiohttp<4.0.0,>=3.8.3->langchain-community) (1.7.0)\n",
      "Requirement already satisfied: multidict<7.0,>=4.5 in /usr/local/lib/python3.11/dist-packages (from aiohttp<4.0.0,>=3.8.3->langchain-community) (6.6.4)\n",
      "Requirement already satisfied: propcache>=0.2.0 in /usr/local/lib/python3.11/dist-packages (from aiohttp<4.0.0,>=3.8.3->langchain-community) (0.3.2)\n",
      "Requirement already satisfied: yarl<2.0,>=1.17.0 in /usr/local/lib/python3.11/dist-packages (from aiohttp<4.0.0,>=3.8.3->langchain-community) (1.20.1)\n",
      "Requirement already satisfied: marshmallow<4.0.0,>=3.18.0 in /usr/local/lib/python3.11/dist-packages (from dataclasses-json<0.7,>=0.5.7->langchain-community) (3.26.1)\n",
      "Requirement already satisfied: typing-inspect<1,>=0.4.0 in /usr/local/lib/python3.11/dist-packages (from dataclasses-json<0.7,>=0.5.7->langchain-community) (0.9.0)\n",
      "Requirement already satisfied: jsonpatch<2.0,>=1.33 in /usr/local/lib/python3.11/dist-packages (from langchain-core>=0.1->langgraph) (1.33)\n",
      "Requirement already satisfied: ormsgpack>=1.10.0 in /usr/local/lib/python3.11/dist-packages (from langgraph-checkpoint<3.0.0,>=2.1.0->langgraph) (1.10.0)\n",
      "Requirement already satisfied: orjson>=3.10.1 in /usr/local/lib/python3.11/dist-packages (from langgraph-sdk<0.3.0,>=0.2.0->langgraph) (3.11.2)\n",
      "Requirement already satisfied: anyio in /usr/local/lib/python3.11/dist-packages (from httpx->tavily-python) (4.10.0)\n",
      "Requirement already satisfied: httpcore==1.* in /usr/local/lib/python3.11/dist-packages (from httpx->tavily-python) (1.0.9)\n",
      "Requirement already satisfied: h11>=0.16 in /usr/local/lib/python3.11/dist-packages (from httpcore==1.*->httpx->tavily-python) (0.16.0)\n",
      "Requirement already satisfied: requests-toolbelt>=1.0.0 in /usr/local/lib/python3.11/dist-packages (from langsmith>=0.1.17->langchain) (1.0.0)\n",
      "Requirement already satisfied: zstandard>=0.23.0 in /usr/local/lib/python3.11/dist-packages (from langsmith>=0.1.17->langchain) (0.23.0)\n",
      "Requirement already satisfied: click>=8.1.7 in /usr/local/lib/python3.11/dist-packages (from magika~=0.6.1->markitdown) (8.2.1)\n",
      "Requirement already satisfied: onnxruntime>=1.17.0 in /usr/local/lib/python3.11/dist-packages (from magika~=0.6.1->markitdown) (1.22.1)\n",
      "Requirement already satisfied: python-dotenv>=1.0.1 in /usr/local/lib/python3.11/dist-packages (from magika~=0.6.1->markitdown) (1.1.1)\n",
      "Requirement already satisfied: distro<2,>=1.7.0 in /usr/local/lib/python3.11/dist-packages (from openai<2.0.0,>=1.99.9->langchain-openai) (1.9.0)\n",
      "Requirement already satisfied: jiter<1,>=0.4.0 in /usr/local/lib/python3.11/dist-packages (from openai<2.0.0,>=1.99.9->langchain-openai) (0.10.0)\n",
      "Requirement already satisfied: sniffio in /usr/local/lib/python3.11/dist-packages (from openai<2.0.0,>=1.99.9->langchain-openai) (1.3.1)\n",
      "Requirement already satisfied: tqdm>4 in /usr/local/lib/python3.11/dist-packages (from openai<2.0.0,>=1.99.9->langchain-openai) (4.67.1)\n",
      "Requirement already satisfied: annotated-types>=0.6.0 in /usr/local/lib/python3.11/dist-packages (from pydantic>=2.7.4->langgraph) (0.7.0)\n",
      "Requirement already satisfied: pydantic-core==2.33.2 in /usr/local/lib/python3.11/dist-packages (from pydantic>=2.7.4->langgraph) (2.33.2)\n",
      "Requirement already satisfied: typing-inspection>=0.4.0 in /usr/local/lib/python3.11/dist-packages (from pydantic>=2.7.4->langgraph) (0.4.1)\n",
      "Requirement already satisfied: greenlet>=1 in /usr/local/lib/python3.11/dist-packages (from SQLAlchemy<3,>=1.4->langchain) (3.2.4)\n",
      "Requirement already satisfied: six<2,>=1.15 in /usr/local/lib/python3.11/dist-packages (from markdownify->markitdown) (1.17.0)\n",
      "Requirement already satisfied: jsonpointer>=1.9 in /usr/local/lib/python3.11/dist-packages (from jsonpatch<2.0,>=1.33->langchain-core>=0.1->langgraph) (3.0.0)\n",
      "Requirement already satisfied: coloredlogs in /usr/local/lib/python3.11/dist-packages (from onnxruntime>=1.17.0->magika~=0.6.1->markitdown) (15.0.1)\n",
      "Requirement already satisfied: flatbuffers in /usr/local/lib/python3.11/dist-packages (from onnxruntime>=1.17.0->magika~=0.6.1->markitdown) (25.2.10)\n",
      "Requirement already satisfied: protobuf in /usr/local/lib/python3.11/dist-packages (from onnxruntime>=1.17.0->magika~=0.6.1->markitdown) (5.29.5)\n",
      "Requirement already satisfied: sympy in /usr/local/lib/python3.11/dist-packages (from onnxruntime>=1.17.0->magika~=0.6.1->markitdown) (1.13.1)\n",
      "Requirement already satisfied: mypy-extensions>=0.3.0 in /usr/local/lib/python3.11/dist-packages (from typing-inspect<1,>=0.4.0->dataclasses-json<0.7,>=0.5.7->langchain-community) (1.1.0)\n",
      "Requirement already satisfied: humanfriendly>=9.1 in /usr/local/lib/python3.11/dist-packages (from coloredlogs->onnxruntime>=1.17.0->magika~=0.6.1->markitdown) (10.0)\n",
      "Requirement already satisfied: mpmath<1.4,>=1.1.0 in /usr/local/lib/python3.11/dist-packages (from sympy->onnxruntime>=1.17.0->magika~=0.6.1->markitdown) (1.3.0)\n"
     ]
    }
   ],
   "source": [
    "!pip install langgraph langchain langchain-openai tiktoken tavily-python requests beautifulsoup4 markitdown langchain-community faiss-cpu\n",
    "# For Chroma instead of FAISS:\n",
    "# !pip install chromadb"
   ]
  },
  {
   "cell_type": "markdown",
   "metadata": {
    "id": "bUpe4c2bNtEJ"
   },
   "source": [
    "API Keys"
   ]
  },
  {
   "cell_type": "code",
   "execution_count": 3,
   "metadata": {
    "colab": {
     "base_uri": "https://localhost:8080/"
    },
    "id": "LrNcwDcDNsw-",
    "outputId": "4378be4d-0645-4503-e4a5-5ac33caa9bef"
   },
   "outputs": [
    {
     "name": "stdout",
     "output_type": "stream",
     "text": [
      "Enter Open AI API Key: ··········\n"
     ]
    }
   ],
   "source": [
    "from getpass import getpass\n",
    "\n",
    "OPENAI_KEY = getpass('Enter Open AI API Key: ')"
   ]
  },
  {
   "cell_type": "code",
   "execution_count": 4,
   "metadata": {
    "colab": {
     "base_uri": "https://localhost:8080/"
    },
    "id": "hiPRcDW-Nst0",
    "outputId": "eb936fe5-998b-4a49-fcaf-75479d335a1b"
   },
   "outputs": [
    {
     "name": "stdout",
     "output_type": "stream",
     "text": [
      "Enter Tavily Search API Key: ··········\n"
     ]
    }
   ],
   "source": [
    "TAVILY_API_KEY = getpass('Enter Tavily Search API Key: ')"
   ]
  },
  {
   "cell_type": "code",
   "execution_count": 5,
   "metadata": {
    "id": "lMD3uTAsNsqw"
   },
   "outputs": [],
   "source": [
    "import os\n",
    "\n",
    "os.environ['OPENAI_API_KEY'] = OPENAI_KEY\n",
    "os.environ['TAVILY_API_KEY'] = TAVILY_API_KEY"
   ]
  },
  {
   "cell_type": "markdown",
   "metadata": {
    "id": "_K2Qth1uRbZ5"
   },
   "source": [
    "Import"
   ]
  },
  {
   "cell_type": "code",
   "execution_count": 6,
   "metadata": {
    "id": "Y1fQIxUNNsE5"
   },
   "outputs": [],
   "source": [
    "from __future__ import annotations\n",
    "\n",
    "import os\n",
    "import re\n",
    "import time\n",
    "from typing import Any, Dict, List, Optional, Literal, TypedDict\n",
    "\n",
    "# LangGraph & LangChain\n",
    "from langgraph.graph import StateGraph, END\n",
    "from langgraph.checkpoint.memory import MemorySaver\n",
    "from langchain_core.messages import AIMessage, HumanMessage, SystemMessage\n",
    "from langchain_openai import ChatOpenAI\n",
    "from langchain.embeddings import OpenAIEmbeddings\n",
    "from IPython.display import Image\n",
    "\n",
    "# Vector store (FAISS) for RAG\n",
    "from langchain_community.vectorstores import FAISS\n",
    "from langchain.docstore.document import Document\n",
    "\n",
    "# Web tools\n",
    "from tavily import TavilyClient\n",
    "import requests\n",
    "from bs4 import BeautifulSoup\n",
    "from markitdown import MarkItDown"
   ]
  },
  {
   "cell_type": "code",
   "execution_count": 7,
   "metadata": {
    "id": "_-qhe-V5RsIJ"
   },
   "outputs": [],
   "source": [
    "OPENAI_MODEL = os.getenv(\"OPENAI_MODEL\", \"gpt-4.1-mini\")     # strong, tool-capable, economical\n",
    "EMBED_MODEL  = os.getenv(\"EMBED_MODEL\", \"text-embedding-3-small\")\n",
    "\n",
    "RAG_TOP_K = 4\n",
    "WEB_TOP_K = 5"
   ]
  },
  {
   "cell_type": "markdown",
   "metadata": {
    "id": "YQradx2rR5Kl"
   },
   "source": [
    "Sample Knowledge Base (RAG)"
   ]
  },
  {
   "cell_type": "code",
   "execution_count": 10,
   "metadata": {
    "id": "RaWs3gZXRsE_"
   },
   "outputs": [],
   "source": [
    "SAMPLE_RAG_DOCS = [\n",
    "    Document(page_content=\"LangGraph is a library for building stateful, multi-actor LLM applications using graphs.\", metadata={\"source\": \"kb:langgraph_intro\"}),\n",
    "    Document(page_content=\"RAG stands for Retrieval Augmented Generation, combining vector search with generation to ground answers.\", metadata={\"source\": \"kb:rag_basics\"}),\n",
    "    Document(page_content=\"Web research is useful for up-to-date information such as current events, product prices, and breaking news.\", metadata={\"source\": \"kb:web_research\"}),\n",
    "]"
   ]
  },
  {
   "cell_type": "markdown",
   "metadata": {
    "id": "iKgLIXttSIoJ"
   },
   "source": [
    "LLM, Embeddings and VectorStore"
   ]
  },
  {
   "cell_type": "code",
   "execution_count": 11,
   "metadata": {
    "colab": {
     "base_uri": "https://localhost:8080/"
    },
    "id": "w0toBrUqRsB0",
    "outputId": "cfc54ec0-0986-4868-e1cf-39f3f9529305"
   },
   "outputs": [
    {
     "name": "stderr",
     "output_type": "stream",
     "text": [
      "/tmp/ipython-input-3158377705.py:2: LangChainDeprecationWarning: The class `OpenAIEmbeddings` was deprecated in LangChain 0.0.9 and will be removed in 1.0. An updated version of the class exists in the :class:`~langchain-openai package and should be used instead. To use it run `pip install -U :class:`~langchain-openai` and import as `from :class:`~langchain_openai import OpenAIEmbeddings``.\n",
      "  embeddings = OpenAIEmbeddings(model=EMBED_MODEL)\n"
     ]
    }
   ],
   "source": [
    "llm = ChatOpenAI(model=OPENAI_MODEL, temperature=0.2)\n",
    "embeddings = OpenAIEmbeddings(model=EMBED_MODEL)\n",
    "vectorstore = FAISS.from_documents(SAMPLE_RAG_DOCS, embeddings)\n"
   ]
  },
  {
   "cell_type": "markdown",
   "metadata": {
    "id": "4fE8y1U0SPGp"
   },
   "source": [
    "Graph State"
   ]
  },
  {
   "cell_type": "code",
   "execution_count": 12,
   "metadata": {
    "id": "rk-xcJeVRr-i"
   },
   "outputs": [],
   "source": [
    "class GraphState(TypedDict):\n",
    "    query: str\n",
    "    route: Optional[Literal[\"WEB\", \"RAG\", \"LLM\"]]\n",
    "    web_results: List[Dict[str, Any]]\n",
    "    rag_results: List[Dict[str, Any]]\n",
    "    llm_answer: Optional[str]\n",
    "    final_answer: Optional[str]\n",
    "    messages: List[Any]   # chat history"
   ]
  },
  {
   "cell_type": "markdown",
   "metadata": {
    "id": "89PvMfHrSXur"
   },
   "source": [
    "Router Agent"
   ]
  },
  {
   "cell_type": "code",
   "execution_count": 13,
   "metadata": {
    "id": "8v4eS8jwRr7H"
   },
   "outputs": [],
   "source": [
    "\n",
    "ROUTER_SYSTEM = SystemMessage(content=(\n",
    "    \"You are a router. Decide the best route for the user's query: 'WEB', 'RAG', or 'LLM'.\\n\"\n",
    "    \"Rules:\\n\"\n",
    "    \"- If the query asks for up-to-date info (contains words like latest, current, today, now, news, 202*, price, schedule), choose WEB.\\n\"\n",
    "    \"- If the query is clearly about the provided knowledge base or internal docs, choose RAG.\\n\"\n",
    "    \"- Otherwise choose LLM.\\n\"\n",
    "    \"Reply with just one token: WEB or RAG or LLM.\"\n",
    "))\n",
    "\n",
    "ROUTER_WEB_REGEX = re.compile(r\"\\b(latest|current|today|now|news|202\\d|price|schedule|stock|live|update)\\b\", re.I)\n",
    "RAG_HINT_REGEX   = re.compile(r\"\\b(knowledge\\s*base|kb|from\\s+docs?|according\\s+to\\s+our\\s+data|internal)\\b\", re.I)\n",
    "\n",
    "def router_agent(state: GraphState) -> GraphState:\n",
    "    q = state[\"query\"]\n",
    "\n",
    "    # heuristic\n",
    "    if ROUTER_WEB_REGEX.search(q):\n",
    "        route = \"WEB\"\n",
    "    elif RAG_HINT_REGEX.search(q):\n",
    "        route = \"RAG\"\n",
    "    else:\n",
    "        # LLM fallback\n",
    "        msgs = [ROUTER_SYSTEM, HumanMessage(content=q)]\n",
    "        try:\n",
    "            out = llm.invoke(msgs)\n",
    "            cand = out.content.strip().upper()\n",
    "            route = \"WEB\" if \"WEB\" in cand else (\"RAG\" if \"RAG\" in cand else \"LLM\")\n",
    "        except Exception:\n",
    "            route = \"LLM\"\n",
    "\n",
    "    return {**state, \"route\": route}\n"
   ]
  },
  {
   "cell_type": "markdown",
   "metadata": {
    "id": "7YXfy-yQSbTs"
   },
   "source": [
    "Web Research Agent"
   ]
  },
  {
   "cell_type": "code",
   "execution_count": 14,
   "metadata": {
    "id": "XC7fzcrBRr38"
   },
   "outputs": [],
   "source": [
    "def tavily_search(query: str, k: int = WEB_TOP_K) -> List[Dict[str, Any]]:\n",
    "    api_key = os.getenv(\"TAVILY_API_KEY\")\n",
    "    if not api_key:\n",
    "        return []\n",
    "    tv = TavilyClient(api_key=api_key)\n",
    "    res = tv.search(query=query, max_results=k)\n",
    "    results = []\n",
    "    for item in res.get(\"results\", [])[:k]:\n",
    "        results.append({\n",
    "            \"url\": item.get(\"url\"),\n",
    "            \"title\": item.get(\"title\"),\n",
    "            \"content\": item.get(\"content\"),\n",
    "        })\n",
    "    return results\n",
    "\n",
    "def simple_scrape(url: str) -> Dict[str, Any]:\n",
    "    try:\n",
    "        headers = {\n",
    "            \"User-Agent\": \"Mozilla/5.0 (Windows NT 10.0; Win64; x64) AppleWebKit/537.36 (KHTML, like Gecko) Chrome/120.0.0.0 Safari/537.36\",\n",
    "        }\n",
    "        r = requests.get(url, headers=headers, timeout=15)\n",
    "        r.raise_for_status()\n",
    "        soup = BeautifulSoup(r.text, \"html.parser\")\n",
    "        title = (soup.title.text.strip() if soup.title else url)\n",
    "        text = \"\\n\".join([p.get_text(\" \", strip=True) for p in soup.find_all(\"p\")])\n",
    "        return {\"url\": url, \"title\": title, \"content\": text[:5000]}\n",
    "    except Exception:\n",
    "        return {\"url\": url, \"title\": url, \"content\": \"\"}\n",
    "\n",
    "def markitdown_fetch(urls: List[str]) -> List[Dict[str, Any]]:\n",
    "    md = MarkItDown()\n",
    "    out: List[Dict[str, Any]] = []\n",
    "    for u in urls:\n",
    "        try:\n",
    "            res = md.convert(u)\n",
    "            title = (res.title or u).strip()\n",
    "            text  = (res.text or res.markdown or \"\").strip()   # NOTE: res.content does not exist\n",
    "            out.append({\"url\": u, \"title\": title, \"content\": text[:6000]})\n",
    "        except Exception:\n",
    "            out.append(simple_scrape(u))\n",
    "    return out\n",
    "\n",
    "def web_research_agent(state: GraphState) -> GraphState:\n",
    "    q = state[\"query\"]\n",
    "    results = tavily_search(q, WEB_TOP_K)\n",
    "\n",
    "    if not results:\n",
    "        urls = re.findall(r\"https?://\\S+\", q)\n",
    "        if urls:\n",
    "            results = markitdown_fetch(urls)\n",
    "        else:\n",
    "            results = [{\"url\": None, \"title\": \"No web search configured\", \"content\": \"Set TAVILY_API_KEY or include URLs in the query.\"}]\n",
    "\n",
    "    # Deduplicate & trim\n",
    "    seen = set()\n",
    "    cleaned: List[Dict[str, Any]] = []\n",
    "    for r in results:\n",
    "        key = (r.get(\"url\"), r.get(\"title\"))\n",
    "        if key in seen:\n",
    "            continue\n",
    "        seen.add(key)\n",
    "        snippet = (r.get(\"content\") or \"\").strip()\n",
    "        cleaned.append({\"url\": r.get(\"url\"), \"title\": r.get(\"title\"), \"snippet\": snippet[:1200]})\n",
    "    return {**state, \"web_results\": cleaned}"
   ]
  },
  {
   "cell_type": "markdown",
   "metadata": {
    "id": "Tu-FHwBASmKQ"
   },
   "source": [
    "RAG Agent"
   ]
  },
  {
   "cell_type": "code",
   "execution_count": 15,
   "metadata": {
    "id": "upVlLRQQRr0d"
   },
   "outputs": [],
   "source": [
    "def rag_agent(state: GraphState) -> GraphState:\n",
    "    q = state[\"query\"]\n",
    "    docs = vectorstore.similarity_search(q, k=RAG_TOP_K)\n",
    "    results = [{\"source\": d.metadata.get(\"source\"), \"snippet\": d.page_content} for d in docs]\n",
    "    return {**state, \"rag_results\": results}"
   ]
  },
  {
   "cell_type": "markdown",
   "metadata": {
    "id": "3ssdQU2ySsZG"
   },
   "source": [
    "LLM Agent"
   ]
  },
  {
   "cell_type": "code",
   "execution_count": 16,
   "metadata": {
    "id": "BRuvZ-AYRrxL"
   },
   "outputs": [],
   "source": [
    "LLM_SYSTEM = SystemMessage(content=(\n",
    "    \"You are a helpful expert assistant. Answer the user's question clearly and concisely using your internal knowledge.\"\n",
    "))\n",
    "\n",
    "def llm_agent(state: GraphState) -> GraphState:\n",
    "    q = state[\"query\"]\n",
    "    msgs = [LLM_SYSTEM] + state.get(\"messages\", []) + [HumanMessage(content=q)]\n",
    "    out = llm.invoke(msgs)\n",
    "    new_messages = state.get(\"messages\", []) + [HumanMessage(content=q), AIMessage(content=out.content)]\n",
    "    return {**state, \"llm_answer\": out.content, \"messages\": new_messages}"
   ]
  },
  {
   "cell_type": "markdown",
   "metadata": {
    "id": "uuyo_UeZS0N1"
   },
   "source": [
    "Summarization Agent"
   ]
  },
  {
   "cell_type": "code",
   "execution_count": 17,
   "metadata": {
    "id": "mQjJCNnLRruC"
   },
   "outputs": [],
   "source": [
    "SUMM_SYSTEM = SystemMessage(content=(\n",
    "    \"You are a senior analyst. Synthesize all available evidence into a structured markdown answer.\\n\"\n",
    "    \"Sections to include when relevant: Answer, Key Points, Sources.\\n\"\n",
    "    \"- If web_results exist, cite them by title with the URL.\\n\"\n",
    "    \"- If rag_results exist, cite them by their 'source' labels.\\n\"\n",
    "    \"- If llm_answer exists, use it to fill gaps but prefer grounded info from web_results/RAG.\"\n",
    "))\n",
    "\n",
    "def summarization_agent(state: GraphState) -> GraphState:\n",
    "    q = state[\"query\"]\n",
    "    web_bits = state.get(\"web_results\", [])\n",
    "    rag_bits = state.get(\"rag_results\", [])\n",
    "    llm_ans = state.get(\"llm_answer\")\n",
    "\n",
    "    context_parts = []\n",
    "    if web_bits:\n",
    "        for i, r in enumerate(web_bits, 1):\n",
    "            context_parts.append(f\"[WEB {i}] {r['title']} - {r.get('url')}\\n{r['snippet']}\")\n",
    "    if rag_bits:\n",
    "        for i, r in enumerate(rag_bits, 1):\n",
    "            context_parts.append(f\"[RAG {i}] {r['source']}\\n{r['snippet']}\")\n",
    "    if llm_ans:\n",
    "        context_parts.append(f\"[LLM] {llm_ans}\")\n",
    "\n",
    "    context = \"\\n\\n\".join(context_parts) if context_parts else \"(No external context)\"\n",
    "\n",
    "    prompt = [\n",
    "        SUMM_SYSTEM,\n",
    "        HumanMessage(content=(\n",
    "            f\"User Query:\\n{q}\\n\\nContext:\\n{context}\\n\\n\"\n",
    "            \"Write a final, structured answer in markdown. Include a bullet list of sources.\"\n",
    "        ))\n",
    "    ]\n",
    "\n",
    "    out = llm.invoke(prompt)\n",
    "    final = out.content\n",
    "    new_messages = state.get(\"messages\", []) + [HumanMessage(content=q), AIMessage(content=final)]\n",
    "    return {**state, \"final_answer\": final, \"messages\": new_messages}\n"
   ]
  },
  {
   "cell_type": "markdown",
   "metadata": {
    "id": "UJ08NkPES7cv"
   },
   "source": [
    "Create LangGraph"
   ]
  },
  {
   "cell_type": "code",
   "execution_count": 18,
   "metadata": {
    "id": "EvSjTWfgRrq9"
   },
   "outputs": [],
   "source": [
    "def build_graph():\n",
    "    graph = StateGraph(GraphState)\n",
    "\n",
    "    # Nodes\n",
    "    graph.add_node(\"router\", router_agent)\n",
    "    graph.add_node(\"web\", web_research_agent)\n",
    "    graph.add_node(\"rag\", rag_agent)\n",
    "    graph.add_node(\"llm\", llm_agent)\n",
    "    graph.add_node(\"summarize\", summarization_agent)\n",
    "\n",
    "    # Entry\n",
    "    graph.set_entry_point(\"router\")\n",
    "\n",
    "    # Conditional routing\n",
    "    def route_decider(state: GraphState) -> Literal[\"to_web\", \"to_rag\", \"to_llm\"]:\n",
    "        r = state.get(\"route\", \"LLM\")\n",
    "        if r == \"WEB\":\n",
    "            return \"to_web\"\n",
    "        if r == \"RAG\":\n",
    "            return \"to_rag\"\n",
    "        return \"to_llm\"\n",
    "\n",
    "    graph.add_conditional_edges(\"router\", route_decider, {\n",
    "        \"to_web\": \"web\",\n",
    "        \"to_rag\": \"rag\",\n",
    "        \"to_llm\": \"llm\",\n",
    "    })\n",
    "\n",
    "    # Join to summarizer\n",
    "    graph.add_edge(\"web\", \"summarize\")\n",
    "    graph.add_edge(\"rag\", \"summarize\")\n",
    "    graph.add_edge(\"llm\", \"summarize\")\n",
    "\n",
    "    # End\n",
    "    graph.add_edge(\"summarize\", END)\n",
    "\n",
    "    return graph"
   ]
  },
  {
   "cell_type": "markdown",
   "metadata": {
    "id": "wow6FzycTbz5"
   },
   "source": [
    "Create Graph"
   ]
  },
  {
   "cell_type": "code",
   "execution_count": 22,
   "metadata": {
    "id": "Ku93zm2BRrn7"
   },
   "outputs": [],
   "source": [
    "app = build_graph().compile(checkpointer=MemorySaver())"
   ]
  },
  {
   "cell_type": "code",
   "execution_count": 23,
   "metadata": {
    "colab": {
     "base_uri": "https://localhost:8080/",
     "height": 473
    },
    "id": "T8gmHLGcRrko",
    "outputId": "5918f19b-dcf3-453a-af67-aa4914782455"
   },
   "outputs": [
    {
     "data": {
      "image/png": "[encoded data removed]",
      "text/plain": [
       "<IPython.core.display.Image object>"
      ]
     },
     "execution_count": 23,
     "metadata": {},
     "output_type": "execute_result"
    }
   ],
   "source": [
    "Image(app.get_graph().draw_mermaid_png())"
   ]
  },
  {
   "cell_type": "markdown",
   "metadata": {
    "id": "ajwxsi8bUFIC"
   },
   "source": [
    "Testing"
   ]
  },
  {
   "cell_type": "code",
   "execution_count": 26,
   "metadata": {
    "id": "CCIzjfruRriL"
   },
   "outputs": [],
   "source": [
    "def run_query(app, query: str, messages: Optional[List[Any]] = None):\n",
    "    state: GraphState = {\n",
    "        \"query\": query,\n",
    "        \"route\": None,\n",
    "        \"web_results\": [],\n",
    "        \"rag_results\": [],\n",
    "        \"llm_answer\": None,\n",
    "        \"final_answer\": None,\n",
    "        \"messages\": messages or [],\n",
    "    }\n",
    "    return app.invoke(state, config={\"thread_id\": \"my_thread\"})\n",
    "\n",
    "def run_demo():\n",
    "    tests = [\n",
    "        # Expected: WEB\n",
    "        \"What are the latest updates about LangGraph in 2025?\",\n",
    "        # Expected: RAG (sample KB contains LangGraph basics)\n",
    "        \"Explain what LangGraph is from our knowledge base.\",\n",
    "        # Expected: LLM\n",
    "        \"Give a high-level difference between RAG and Web Research.\",\n",
    "    ]\n",
    "\n",
    "    history: List[Any] = []\n",
    "    results = []\n",
    "    for q in tests:\n",
    "        out = run_query(app, q, messages=history)\n",
    "        results.append((q, out.get(\"route\"), out.get(\"final_answer\")))\n",
    "        history = out.get(\"messages\", history)\n",
    "        time.sleep(0.2)\n",
    "    return results"
   ]
  },
  {
   "cell_type": "code",
   "execution_count": 27,
   "metadata": {
    "id": "jD9sAieORrek"
   },
   "outputs": [],
   "source": [
    "demo_results = run_demo()"
   ]
  },
  {
   "cell_type": "code",
   "execution_count": 28,
   "metadata": {
    "colab": {
     "base_uri": "https://localhost:8080/"
    },
    "id": "MtFeuTF5Rrbq",
    "outputId": "f509b383-4fc8-40c1-9801-8f485b789eec"
   },
   "outputs": [
    {
     "data": {
      "text/plain": [
       "[('What are the latest updates about LangGraph in 2025?',\n",
       "  'WEB',\n",
       "  \"# Latest Updates on LangGraph in 2025\\n\\n## Answer\\n\\nIn 2025, LangGraph has seen significant developments and improvements, particularly in its integration capabilities, tooling, and production readiness. Key updates include new feature rollouts for both LangGraph.js and LangGraph Python, enhanced workflow support, and better integration with LangChain's ecosystem. The platform is evolving towards more robust state-machine agents, interrupt-safe operations, and cloud deployment options, positioning it as a strong candidate for production AI applications.\\n\\nHowever, some challenges remain, such as stability issues with frequent updates in related frameworks like LangChain, and memory management concerns when handling large chains.\\n\\n## Key Points\\n\\n- **Feature Enhancements**: Recent releases have improved low-level workflows for LangGraph.js and LangGraph Python, enhancing developer experience and functionality.  \\n- **Integration with LangChain**: LangGraph now supports connecting traces in LangSmith to server logs on the LangGraph platform, improving observability and debugging.  \\n- **State-Machine Agents**: LangGraph is advancing its agent architecture with graph state machines and interrupt-safe agents, making it more suitable for complex, production-grade AI systems.  \\n- **Tooling and Deployment**: New MCP (Model Control Plane) tooling and cloud deployment options have been introduced, facilitating scalable and manageable AI deployments.  \\n- **Ecosystem Position**: LangGraph is part of a growing ecosystem with several alternatives, reflecting a competitive and evolving landscape in agent platforms.  \\n- **Limitations**: Users report issues with LangChain updates causing instability and poor migration documentation, alongside high memory usage in large chains, which indirectly affect LangGraph users relying on LangChain integrations.\\n\\n## Sources\\n\\n- LangGraph Release Week Recap - LangChain Blog  \\n  https://blog.langchain.com/langgraph-release-week-recap/  \\n- Platform Ecosystem: LangGraph alternatives (May 2025) - DataHub  \\n  https://datahub.io/@donbr/langgraph-unleashed/agent-platform-ecosystem  \\n- LangChain - Changelog (July 2025)  \\n  https://changelog.langchain.com/  \\n- LangGraph 2025 Review: State-Machine Agents for Production AI - NeurlCreators Substack  \\n  https://neurlcreators.substack.com/p/langgraph-agent-state-machine-review  \\n- Current limitations of LangChain and LangGraph frameworks in 2025 - LateNode Community  \\n  https://community.latenode.com/t/current-limitations-of-langchain-and-langgraph-frameworks-in-2025/30994\"),\n",
       " ('Explain what LangGraph is from our knowledge base.',\n",
       "  'RAG',\n",
       "  '# Answer\\n\\n**LangGraph** is a software library designed to facilitate the development of stateful, multi-actor applications that leverage large language models (LLMs). It uses graph structures to organize and manage interactions among multiple LLM agents or components, enabling complex workflows and collaborative processing within LLM-based systems.\\n\\n# Key Points\\n- LangGraph focuses on building **stateful** applications, meaning it maintains context and memory across interactions.\\n- It supports **multi-actor** setups, allowing multiple LLM agents or modules to interact and collaborate.\\n- The core abstraction is a **graph**, which models the relationships and data flow between different actors or components.\\n- This approach helps in structuring complex LLM applications beyond simple single-turn queries.\\n\\n# Sources\\n- kb:langgraph_intro: \"LangGraph is a library for building stateful, multi-actor LLM applications using graphs.\"'),\n",
       " ('Give a high-level difference between RAG and Web Research.',\n",
       "  'LLM',\n",
       "  '# High-Level Difference Between RAG and Web Research\\n\\n**Retrieval-Augmented Generation (RAG):**  \\n- Utilizes a fixed or curated knowledge base or document corpus.  \\n- Retrieves relevant documents from this static dataset before generating a response.  \\n- Enhances language model outputs by grounding them in specific, pre-indexed sources.  \\n- Does not access real-time or live web data during generation.\\n\\n**Web Research:**  \\n- Involves real-time searching of the internet to gather information.  \\n- Uses search engines, APIs, or web scraping to find the most current and relevant data.  \\n- Enables synthesis of fresh, up-to-date information beyond any fixed dataset.  \\n- Typically more dynamic and responsive to recent events or changes.\\n\\n---\\n\\n### Summary  \\n- **RAG** is retrieval from a predefined, static dataset to support generation.  \\n- **Web Research** is active, real-time exploration of the live web for current information.\\n\\n---\\n\\n### Sources  \\n- Provided context from the user query (LLM context)')]"
      ]
     },
     "execution_count": 28,
     "metadata": {},
     "output_type": "execute_result"
    }
   ],
   "source": [
    "demo_results"
   ]
  }
 ],
 "metadata": {
  "colab": {
   "provenance": []
  },
  "kernelspec": {
   "display_name": "Python 3 (ipykernel)",
   "language": "python",
   "name": "python3"
  },
  "language_info": {
   "codemirror_mode": {
    "name": "ipython",
    "version": 3
   },
   "file_extension": ".py",
   "mimetype": "text/x-python",
   "name": "python",
   "nbconvert_exporter": "python",
   "pygments_lexer": "ipython3",
   "version": "3.11.3"
  }
 },
 "nbformat": 4,
 "nbformat_minor": 4
}
